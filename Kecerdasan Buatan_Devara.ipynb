{
 "cells": [
  {
   "cell_type": "markdown",
   "id": "ddc9cfa8",
   "metadata": {},
   "source": [
    "## 1. Import Library yang diperlukan"
   ]
  },
  {
   "cell_type": "code",
   "execution_count": 1,
   "id": "54dfe83e",
   "metadata": {},
   "outputs": [],
   "source": [
    "import numpy as np\n",
    "import matplotlib.pyplot as plt\n",
    "import pandas as pd\n",
    "import math"
   ]
  },
  {
   "cell_type": "markdown",
   "id": "5a603c3b",
   "metadata": {},
   "source": [
    "## 2. Read Data coin_Cardano.csv"
   ]
  },
  {
   "cell_type": "code",
   "execution_count": 2,
   "id": "810913d2",
   "metadata": {},
   "outputs": [
    {
     "data": {
      "text/html": [
       "<div>\n",
       "<style scoped>\n",
       "    .dataframe tbody tr th:only-of-type {\n",
       "        vertical-align: middle;\n",
       "    }\n",
       "\n",
       "    .dataframe tbody tr th {\n",
       "        vertical-align: top;\n",
       "    }\n",
       "\n",
       "    .dataframe thead th {\n",
       "        text-align: right;\n",
       "    }\n",
       "</style>\n",
       "<table border=\"1\" class=\"dataframe\">\n",
       "  <thead>\n",
       "    <tr style=\"text-align: right;\">\n",
       "      <th></th>\n",
       "      <th>SNo</th>\n",
       "      <th>Name</th>\n",
       "      <th>Symbol</th>\n",
       "      <th>High</th>\n",
       "      <th>Low</th>\n",
       "      <th>Open</th>\n",
       "      <th>Close</th>\n",
       "      <th>Volume</th>\n",
       "      <th>Marketcap</th>\n",
       "    </tr>\n",
       "    <tr>\n",
       "      <th>Date</th>\n",
       "      <th></th>\n",
       "      <th></th>\n",
       "      <th></th>\n",
       "      <th></th>\n",
       "      <th></th>\n",
       "      <th></th>\n",
       "      <th></th>\n",
       "      <th></th>\n",
       "      <th></th>\n",
       "    </tr>\n",
       "  </thead>\n",
       "  <tbody>\n",
       "    <tr>\n",
       "      <th>2017-10-02 23:59:59</th>\n",
       "      <td>1</td>\n",
       "      <td>Cardano</td>\n",
       "      <td>ADA</td>\n",
       "      <td>0.030088</td>\n",
       "      <td>0.019969</td>\n",
       "      <td>0.024607</td>\n",
       "      <td>0.025932</td>\n",
       "      <td>57641300.0</td>\n",
       "      <td>6.288991e+08</td>\n",
       "    </tr>\n",
       "    <tr>\n",
       "      <th>2017-10-03 23:59:59</th>\n",
       "      <td>2</td>\n",
       "      <td>Cardano</td>\n",
       "      <td>ADA</td>\n",
       "      <td>0.027425</td>\n",
       "      <td>0.020690</td>\n",
       "      <td>0.025757</td>\n",
       "      <td>0.020816</td>\n",
       "      <td>16997800.0</td>\n",
       "      <td>5.396927e+08</td>\n",
       "    </tr>\n",
       "    <tr>\n",
       "      <th>2017-10-04 23:59:59</th>\n",
       "      <td>3</td>\n",
       "      <td>Cardano</td>\n",
       "      <td>ADA</td>\n",
       "      <td>0.022806</td>\n",
       "      <td>0.020864</td>\n",
       "      <td>0.020864</td>\n",
       "      <td>0.021931</td>\n",
       "      <td>9000050.0</td>\n",
       "      <td>5.686195e+08</td>\n",
       "    </tr>\n",
       "    <tr>\n",
       "      <th>2017-10-05 23:59:59</th>\n",
       "      <td>4</td>\n",
       "      <td>Cardano</td>\n",
       "      <td>ADA</td>\n",
       "      <td>0.022154</td>\n",
       "      <td>0.020859</td>\n",
       "      <td>0.021951</td>\n",
       "      <td>0.021489</td>\n",
       "      <td>5562510.0</td>\n",
       "      <td>5.571390e+08</td>\n",
       "    </tr>\n",
       "    <tr>\n",
       "      <th>2017-10-06 23:59:59</th>\n",
       "      <td>5</td>\n",
       "      <td>Cardano</td>\n",
       "      <td>ADA</td>\n",
       "      <td>0.021542</td>\n",
       "      <td>0.018360</td>\n",
       "      <td>0.021359</td>\n",
       "      <td>0.018539</td>\n",
       "      <td>7780710.0</td>\n",
       "      <td>4.806646e+08</td>\n",
       "    </tr>\n",
       "  </tbody>\n",
       "</table>\n",
       "</div>"
      ],
      "text/plain": [
       "                     SNo     Name Symbol      High       Low      Open  \\\n",
       "Date                                                                     \n",
       "2017-10-02 23:59:59    1  Cardano    ADA  0.030088  0.019969  0.024607   \n",
       "2017-10-03 23:59:59    2  Cardano    ADA  0.027425  0.020690  0.025757   \n",
       "2017-10-04 23:59:59    3  Cardano    ADA  0.022806  0.020864  0.020864   \n",
       "2017-10-05 23:59:59    4  Cardano    ADA  0.022154  0.020859  0.021951   \n",
       "2017-10-06 23:59:59    5  Cardano    ADA  0.021542  0.018360  0.021359   \n",
       "\n",
       "                        Close      Volume     Marketcap  \n",
       "Date                                                     \n",
       "2017-10-02 23:59:59  0.025932  57641300.0  6.288991e+08  \n",
       "2017-10-03 23:59:59  0.020816  16997800.0  5.396927e+08  \n",
       "2017-10-04 23:59:59  0.021931   9000050.0  5.686195e+08  \n",
       "2017-10-05 23:59:59  0.021489   5562510.0  5.571390e+08  \n",
       "2017-10-06 23:59:59  0.018539   7780710.0  4.806646e+08  "
      ]
     },
     "execution_count": 2,
     "metadata": {},
     "output_type": "execute_result"
    }
   ],
   "source": [
    "## membaca dataset coin_Cardano.csv dengan kolom ke 3 sebagai datetime\n",
    "df = pd.read_csv('coin_Cardano.csv',index_col=3, parse_dates=True) \n",
    "\n",
    "##print 5 data pertama dari coin_Cardano.csv\n",
    "df.head() "
   ]
  },
  {
   "cell_type": "code",
   "execution_count": 3,
   "id": "fa3f6d2d",
   "metadata": {
    "scrolled": true
   },
   "outputs": [
    {
     "data": {
      "text/html": [
       "<div>\n",
       "<style scoped>\n",
       "    .dataframe tbody tr th:only-of-type {\n",
       "        vertical-align: middle;\n",
       "    }\n",
       "\n",
       "    .dataframe tbody tr th {\n",
       "        vertical-align: top;\n",
       "    }\n",
       "\n",
       "    .dataframe thead th {\n",
       "        text-align: right;\n",
       "    }\n",
       "</style>\n",
       "<table border=\"1\" class=\"dataframe\">\n",
       "  <thead>\n",
       "    <tr style=\"text-align: right;\">\n",
       "      <th></th>\n",
       "      <th>SNo</th>\n",
       "      <th>Name</th>\n",
       "      <th>Symbol</th>\n",
       "      <th>High</th>\n",
       "      <th>Low</th>\n",
       "      <th>Open</th>\n",
       "      <th>Close</th>\n",
       "      <th>Volume</th>\n",
       "      <th>Marketcap</th>\n",
       "    </tr>\n",
       "    <tr>\n",
       "      <th>Date</th>\n",
       "      <th></th>\n",
       "      <th></th>\n",
       "      <th></th>\n",
       "      <th></th>\n",
       "      <th></th>\n",
       "      <th></th>\n",
       "      <th></th>\n",
       "      <th></th>\n",
       "      <th></th>\n",
       "    </tr>\n",
       "  </thead>\n",
       "  <tbody>\n",
       "    <tr>\n",
       "      <th>2017-10-02 23:59:59</th>\n",
       "      <td>1</td>\n",
       "      <td>Cardano</td>\n",
       "      <td>ADA</td>\n",
       "      <td>0.030088</td>\n",
       "      <td>0.019969</td>\n",
       "      <td>0.024607</td>\n",
       "      <td>0.025932</td>\n",
       "      <td>5.764130e+07</td>\n",
       "      <td>6.288991e+08</td>\n",
       "    </tr>\n",
       "    <tr>\n",
       "      <th>2017-10-03 23:59:59</th>\n",
       "      <td>2</td>\n",
       "      <td>Cardano</td>\n",
       "      <td>ADA</td>\n",
       "      <td>0.027425</td>\n",
       "      <td>0.020690</td>\n",
       "      <td>0.025757</td>\n",
       "      <td>0.020816</td>\n",
       "      <td>1.699780e+07</td>\n",
       "      <td>5.396927e+08</td>\n",
       "    </tr>\n",
       "    <tr>\n",
       "      <th>2017-10-04 23:59:59</th>\n",
       "      <td>3</td>\n",
       "      <td>Cardano</td>\n",
       "      <td>ADA</td>\n",
       "      <td>0.022806</td>\n",
       "      <td>0.020864</td>\n",
       "      <td>0.020864</td>\n",
       "      <td>0.021931</td>\n",
       "      <td>9.000050e+06</td>\n",
       "      <td>5.686195e+08</td>\n",
       "    </tr>\n",
       "    <tr>\n",
       "      <th>2017-10-05 23:59:59</th>\n",
       "      <td>4</td>\n",
       "      <td>Cardano</td>\n",
       "      <td>ADA</td>\n",
       "      <td>0.022154</td>\n",
       "      <td>0.020859</td>\n",
       "      <td>0.021951</td>\n",
       "      <td>0.021489</td>\n",
       "      <td>5.562510e+06</td>\n",
       "      <td>5.571390e+08</td>\n",
       "    </tr>\n",
       "    <tr>\n",
       "      <th>2017-10-06 23:59:59</th>\n",
       "      <td>5</td>\n",
       "      <td>Cardano</td>\n",
       "      <td>ADA</td>\n",
       "      <td>0.021542</td>\n",
       "      <td>0.018360</td>\n",
       "      <td>0.021359</td>\n",
       "      <td>0.018539</td>\n",
       "      <td>7.780710e+06</td>\n",
       "      <td>4.806646e+08</td>\n",
       "    </tr>\n",
       "    <tr>\n",
       "      <th>...</th>\n",
       "      <td>...</td>\n",
       "      <td>...</td>\n",
       "      <td>...</td>\n",
       "      <td>...</td>\n",
       "      <td>...</td>\n",
       "      <td>...</td>\n",
       "      <td>...</td>\n",
       "      <td>...</td>\n",
       "      <td>...</td>\n",
       "    </tr>\n",
       "    <tr>\n",
       "      <th>2021-07-02 23:59:59</th>\n",
       "      <td>1370</td>\n",
       "      <td>Cardano</td>\n",
       "      <td>ADA</td>\n",
       "      <td>1.394397</td>\n",
       "      <td>1.286607</td>\n",
       "      <td>1.332942</td>\n",
       "      <td>1.394397</td>\n",
       "      <td>2.159410e+09</td>\n",
       "      <td>4.454587e+10</td>\n",
       "    </tr>\n",
       "    <tr>\n",
       "      <th>2021-07-03 23:59:59</th>\n",
       "      <td>1371</td>\n",
       "      <td>Cardano</td>\n",
       "      <td>ADA</td>\n",
       "      <td>1.441714</td>\n",
       "      <td>1.359664</td>\n",
       "      <td>1.394152</td>\n",
       "      <td>1.406836</td>\n",
       "      <td>2.028094e+09</td>\n",
       "      <td>4.494324e+10</td>\n",
       "    </tr>\n",
       "    <tr>\n",
       "      <th>2021-07-04 23:59:59</th>\n",
       "      <td>1372</td>\n",
       "      <td>Cardano</td>\n",
       "      <td>ADA</td>\n",
       "      <td>1.493717</td>\n",
       "      <td>1.382153</td>\n",
       "      <td>1.404008</td>\n",
       "      <td>1.458184</td>\n",
       "      <td>1.806362e+09</td>\n",
       "      <td>4.658364e+10</td>\n",
       "    </tr>\n",
       "    <tr>\n",
       "      <th>2021-07-05 23:59:59</th>\n",
       "      <td>1373</td>\n",
       "      <td>Cardano</td>\n",
       "      <td>ADA</td>\n",
       "      <td>1.461221</td>\n",
       "      <td>1.379284</td>\n",
       "      <td>1.461221</td>\n",
       "      <td>1.404898</td>\n",
       "      <td>1.759461e+09</td>\n",
       "      <td>4.488134e+10</td>\n",
       "    </tr>\n",
       "    <tr>\n",
       "      <th>2021-07-06 23:59:59</th>\n",
       "      <td>1374</td>\n",
       "      <td>Cardano</td>\n",
       "      <td>ADA</td>\n",
       "      <td>1.456887</td>\n",
       "      <td>1.393282</td>\n",
       "      <td>1.404712</td>\n",
       "      <td>1.418053</td>\n",
       "      <td>1.477700e+09</td>\n",
       "      <td>4.530158e+10</td>\n",
       "    </tr>\n",
       "  </tbody>\n",
       "</table>\n",
       "<p>1374 rows × 9 columns</p>\n",
       "</div>"
      ],
      "text/plain": [
       "                      SNo     Name Symbol      High       Low      Open  \\\n",
       "Date                                                                      \n",
       "2017-10-02 23:59:59     1  Cardano    ADA  0.030088  0.019969  0.024607   \n",
       "2017-10-03 23:59:59     2  Cardano    ADA  0.027425  0.020690  0.025757   \n",
       "2017-10-04 23:59:59     3  Cardano    ADA  0.022806  0.020864  0.020864   \n",
       "2017-10-05 23:59:59     4  Cardano    ADA  0.022154  0.020859  0.021951   \n",
       "2017-10-06 23:59:59     5  Cardano    ADA  0.021542  0.018360  0.021359   \n",
       "...                   ...      ...    ...       ...       ...       ...   \n",
       "2021-07-02 23:59:59  1370  Cardano    ADA  1.394397  1.286607  1.332942   \n",
       "2021-07-03 23:59:59  1371  Cardano    ADA  1.441714  1.359664  1.394152   \n",
       "2021-07-04 23:59:59  1372  Cardano    ADA  1.493717  1.382153  1.404008   \n",
       "2021-07-05 23:59:59  1373  Cardano    ADA  1.461221  1.379284  1.461221   \n",
       "2021-07-06 23:59:59  1374  Cardano    ADA  1.456887  1.393282  1.404712   \n",
       "\n",
       "                        Close        Volume     Marketcap  \n",
       "Date                                                       \n",
       "2017-10-02 23:59:59  0.025932  5.764130e+07  6.288991e+08  \n",
       "2017-10-03 23:59:59  0.020816  1.699780e+07  5.396927e+08  \n",
       "2017-10-04 23:59:59  0.021931  9.000050e+06  5.686195e+08  \n",
       "2017-10-05 23:59:59  0.021489  5.562510e+06  5.571390e+08  \n",
       "2017-10-06 23:59:59  0.018539  7.780710e+06  4.806646e+08  \n",
       "...                       ...           ...           ...  \n",
       "2021-07-02 23:59:59  1.394397  2.159410e+09  4.454587e+10  \n",
       "2021-07-03 23:59:59  1.406836  2.028094e+09  4.494324e+10  \n",
       "2021-07-04 23:59:59  1.458184  1.806362e+09  4.658364e+10  \n",
       "2021-07-05 23:59:59  1.404898  1.759461e+09  4.488134e+10  \n",
       "2021-07-06 23:59:59  1.418053  1.477700e+09  4.530158e+10  \n",
       "\n",
       "[1374 rows x 9 columns]"
      ]
     },
     "execution_count": 3,
     "metadata": {},
     "output_type": "execute_result"
    }
   ],
   "source": [
    "## print data lebih lengkap\n",
    "df"
   ]
  },
  {
   "cell_type": "code",
   "execution_count": 4,
   "id": "e4503e8f",
   "metadata": {},
   "outputs": [
    {
     "data": {
      "text/plain": [
       "<AxesSubplot:xlabel='Date'>"
      ]
     },
     "execution_count": 4,
     "metadata": {},
     "output_type": "execute_result"
    },
    {
     "data": {
      "image/png": "[encoded data removed]",
      "text/plain": [
       "<Figure size 432x288 with 1 Axes>"
      ]
     },
     "metadata": {
      "needs_background": "light"
     },
     "output_type": "display_data"
    }
   ],
   "source": [
    "## Plot Data Sederhana\n",
    "df.plot()"
   ]
  },
  {
   "cell_type": "code",
   "execution_count": 5,
   "id": "9b4eae16",
   "metadata": {},
   "outputs": [
    {
     "data": {
      "text/plain": [
       "<AxesSubplot:xlabel='Date', ylabel='Harga Cardano ($)'>"
      ]
     },
     "execution_count": 5,
     "metadata": {},
     "output_type": "execute_result"
    },
    {
     "data": {
      "image/png": "[encoded data removed]",
      "text/plain": [
       "<Figure size 432x288 with 1 Axes>"
      ]
     },
     "metadata": {
      "needs_background": "light"
     },
     "output_type": "display_data"
    }
   ],
   "source": [
    "## Plot Data Harga Closing dari Cardano\n",
    "Y= df[\"Close\"]\n",
    "plt.ylabel('Harga Cardano ($)')\n",
    "Y.plot()"
   ]
  },
  {
   "cell_type": "code",
   "execution_count": 6,
   "id": "0caafe8b",
   "metadata": {},
   "outputs": [
    {
     "data": {
      "text/plain": [
       "<AxesSubplot:xlabel='Date', ylabel='Marketcap'>"
      ]
     },
     "execution_count": 6,
     "metadata": {},
     "output_type": "execute_result"
    },
    {
     "data": {
      "image/png": "[encoded data removed]",
      "text/plain": [
       "<Figure size 432x288 with 1 Axes>"
      ]
     },
     "metadata": {
      "needs_background": "light"
     },
     "output_type": "display_data"
    }
   ],
   "source": [
    "X= df[\"Marketcap\"] # Marketcap\n",
    "plt.ylabel('Marketcap')\n",
    "X.plot()"
   ]
  },
  {
   "cell_type": "markdown",
   "id": "4e869bc3",
   "metadata": {},
   "source": [
    "## 3. Mengambil data (Marketcap) X dan (Harga Cardano) Y dari dataset dan Memplotkannya"
   ]
  },
  {
   "cell_type": "code",
   "execution_count": 7,
   "id": "8dcaf959",
   "metadata": {},
   "outputs": [
    {
     "data": {
      "image/png": "[encoded data removed]",
      "text/plain": [
       "<Figure size 432x288 with 1 Axes>"
      ]
     },
     "metadata": {
      "needs_background": "light"
     },
     "output_type": "display_data"
    }
   ],
   "source": [
    "Y= df[\"Close\"] # Harga Close\n",
    "X= df[\"Marketcap\"] # Marketcap\n",
    "plt.title('Regresi Linear')\n",
    "plt.xlabel('Marketcap')\n",
    "plt.ylabel('Harga Cardano ($)')\n",
    "plt.scatter(X, Y)\n",
    "plt.show()\n",
    "\n",
    "#or\n",
    "#Y= df.iloc[:,6] #Harga close\n",
    "#X= df.iloc[:,8] #Marketcap\n",
    "#plt.title('Regresi Linear')\n",
    "#plt.xlabel('Marketcap')\n",
    "#plt.ylabel('Harga Cardano ($)')\n",
    "#plt.scatter(X, Y)\n",
    "#plt.show()"
   ]
  },
  {
   "cell_type": "markdown",
   "id": "720638d8",
   "metadata": {},
   "source": [
    "## 4. Membuat Model Regresi dengan Least Square"
   ]
  },
  {
   "attachments": {
    "image.png": {
     "image/png": "[encoded data removed]"
    }
   },
   "cell_type": "markdown",
   "id": "0024bd5f",
   "metadata": {},
   "source": [
    "![image.png](attachment:image.png)"
   ]
  },
  {
   "cell_type": "code",
   "execution_count": 8,
   "id": "0a1eedce",
   "metadata": {},
   "outputs": [
    {
     "name": "stdout",
     "output_type": "stream",
     "text": [
      "3.136060104863345e-11 0.017863754360095407\n"
     ]
    }
   ],
   "source": [
    "# Membuat model\n",
    "X_mean = np.mean(X)\n",
    "Y_mean = np.mean(Y)\n",
    "\n",
    "num = 0\n",
    "den = 0\n",
    "for i in range(len(X)):\n",
    "    num += (X[i] - X_mean)*(Y[i] - Y_mean)\n",
    "    den += (X[i] - X_mean)**2\n",
    "m = num / den\n",
    "c = Y_mean - m*X_mean\n",
    "\n",
    "print (m, c)"
   ]
  },
  {
   "attachments": {
    "image-2.png": {
     "image/png": "[encoded data removed]"
    },
    "image-3.png": {
     "image/png": "[encoded data removed]"
    },
    "image.png": {
     "image/png": "[encoded data removed]"
    }
   },
   "cell_type": "markdown",
   "id": "7fceb5b5",
   "metadata": {},
   "source": [
    "![image.png](attachment:image.png)\n",
    "![image-2.png](attachment:image-2.png)\n",
    "![image-3.png](attachment:image-3.png)"
   ]
  },
  {
   "cell_type": "code",
   "execution_count": 9,
   "id": "455bbdfe",
   "metadata": {
    "scrolled": true
   },
   "outputs": [
    {
     "data": {
      "image/png": "[encoded data removed]",
      "text/plain": [
       "<Figure size 432x288 with 1 Axes>"
      ]
     },
     "metadata": {
      "needs_background": "light"
     },
     "output_type": "display_data"
    }
   ],
   "source": [
    "# Membuat prediksi\n",
    "Y_pred = m*X + c\n",
    "\n",
    "plt.scatter(X, Y) # Nilai asli\n",
    "# plt.scatter(X, Y_pred, color='red')\n",
    "plt.title('Regresi Linear')\n",
    "plt.xlabel('Marketcap')\n",
    "plt.ylabel('Harga Cardano ($)')\n",
    "plt.plot([min(X), max(X)], [min(Y_pred), max(Y_pred)], color='red') # Nilai Prediksi\n",
    "plt.show()"
   ]
  },
  {
   "attachments": {
    "image.png": {
     "image/png": "[encoded data removed]"
    }
   },
   "cell_type": "markdown",
   "id": "b68c5c36",
   "metadata": {},
   "source": [
    "## 5. Mengetahui Hubungan Korelasi antara X dan Y dengan Correlation Testing\n",
    "![image.png](attachment:image.png)"
   ]
  },
  {
   "cell_type": "code",
   "execution_count": 10,
   "id": "614307b8",
   "metadata": {},
   "outputs": [],
   "source": [
    "numcor1=0\n",
    "numcor2=0\n",
    "numcor3=0\n",
    "dencor1=0\n",
    "dencor2=0\n",
    "dencor3=0\n",
    "dencor4=0\n",
    "\n",
    "for i in range(len(X)): #iterasi seperti pada rumus\n",
    "    numcor1 += (X[i]*Y[i])\n",
    "    numcor2 += X[i]\n",
    "    numcor3 += Y[i]\n",
    "    dencor1 += (X[i]**2)\n",
    "    dencor2 += (X[i])**2\n",
    "    dencor3 += (Y[i]**2)\n",
    "    dencor4 += (Y[i])**2\n",
    "\n",
    "    n=len(X) #jumlah data"
   ]
  },
  {
   "cell_type": "code",
   "execution_count": 11,
   "id": "0215e1b4",
   "metadata": {},
   "outputs": [],
   "source": [
    "numtot= n*numcor1-(numcor2*numcor3)\n",
    "dentot= math.sqrt((n*dencor1-dencor2)*(n*dencor3-dencor4))"
   ]
  },
  {
   "cell_type": "code",
   "execution_count": 12,
   "id": "6c0eec18",
   "metadata": {},
   "outputs": [
    {
     "name": "stdout",
     "output_type": "stream",
     "text": [
      "Jadi Korelasi antar Marketcap dan Harga Cardano saat Close yaitu= 0.7313213760425876\n"
     ]
    }
   ],
   "source": [
    "r=numtot/dentot\n",
    "print(\"Jadi Korelasi antar Marketcap dan Harga Cardano saat Close yaitu=\", r)"
   ]
  }
 ],
 "metadata": {
  "kernelspec": {
   "display_name": "Python 3 (ipykernel)",
   "language": "python",
   "name": "python3"
  },
  "language_info": {
   "codemirror_mode": {
    "name": "ipython",
    "version": 3
   },
   "file_extension": ".py",
   "mimetype": "text/x-python",
   "name": "python",
   "nbconvert_exporter": "python",
   "pygments_lexer": "ipython3",
   "version": "3.9.7"
  }
 },
 "nbformat": 4,
 "nbformat_minor": 5
}
